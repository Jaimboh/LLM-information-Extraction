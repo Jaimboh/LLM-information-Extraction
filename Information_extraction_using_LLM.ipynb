{
  "cells": [
    {
      "cell_type": "markdown",
      "metadata": {
        "id": "-1CEd3V0AC99"
      },
      "source": [
        "# 1. Install all the packages"
      ]
    },
    {
      "cell_type": "code",
      "execution_count": null,
      "metadata": {
        "id": "7jHTUCFK6AbQ"
      },
      "outputs": [],
      "source": [
        "!pip install -q transformers einops accelerate langchain bitsandbytes sentence_transformers llama-index pypdf python-dotenv"
      ]
    },
    {
      "cell_type": "markdown",
      "metadata": {
        "id": "zdlHXfkqAHYv"
      },
      "source": [
        "# 2. Packages imports"
      ]
    },
    {
      "cell_type": "code",
      "execution_count": 37,
      "metadata": {
        "id": "IndjMsJd6Al5"
      },
      "outputs": [],
      "source": [
        "import logging\n",
        "import sys\n",
        "import torch\n",
        "from pprint import pprint\n",
        "from llama_index import VectorStoreIndex, SimpleDirectoryReader, ServiceContext\n",
        "from llama_index.llms import HuggingFaceLLM\n",
        "from langchain.embeddings.huggingface import HuggingFaceEmbeddings\n",
        "from llama_index import LangchainEmbedding, ServiceContext\n",
        "from llama_index.prompts.prompts import SimpleInputPrompt\n",
        "\n",
        "logging.basicConfig(stream=sys.stdout, level=logging.INFO)\n",
        "logging.getLogger().addHandler(logging.StreamHandler(stream=sys.stdout))"
      ]
    },
    {
      "cell_type": "markdown",
      "metadata": {
        "id": "Q282pVJHALKW"
      },
      "source": [
        "# 3. Login to HuggingFace cli"
      ]
    },
    {
      "cell_type": "code",
      "execution_count": 3,
      "metadata": {
        "colab": {
          "base_uri": "https://localhost:8080/"
        },
        "id": "dXzUZVOD_8uy",
        "outputId": "418cba73-ba82-4931-acc0-0f6a8b94175a"
      },
      "outputs": [
        {
          "name": "stdout",
          "output_type": "stream",
          "text": [
            "\n",
            "    _|    _|  _|    _|    _|_|_|    _|_|_|  _|_|_|  _|      _|    _|_|_|      _|_|_|_|    _|_|      _|_|_|  _|_|_|_|\n",
            "    _|    _|  _|    _|  _|        _|          _|    _|_|    _|  _|            _|        _|    _|  _|        _|\n",
            "    _|_|_|_|  _|    _|  _|  _|_|  _|  _|_|    _|    _|  _|  _|  _|  _|_|      _|_|_|    _|_|_|_|  _|        _|_|_|\n",
            "    _|    _|  _|    _|  _|    _|  _|    _|    _|    _|    _|_|  _|    _|      _|        _|    _|  _|        _|\n",
            "    _|    _|    _|_|      _|_|_|    _|_|_|  _|_|_|  _|      _|    _|_|_|      _|        _|    _|    _|_|_|  _|_|_|_|\n",
            "    \n",
            "    To login, `huggingface_hub` requires a token generated from https://huggingface.co/settings/tokens .\n",
            "Token: \n",
            "Add token as git credential? (Y/n) Y\n",
            "Token is valid (permission: read).\n",
            "Your token has been saved in your configured git credential helpers (store).\n",
            "Your token has been saved to /root/.cache/huggingface/token\n",
            "Login successful\n"
          ]
        }
      ],
      "source": [
        "!git config --global credential.helper store\n",
        "!huggingface-cli login"
      ]
    },
    {
      "cell_type": "markdown",
      "metadata": {
        "id": "KWJU26sSASyl"
      },
      "source": [
        "# 4. Load the Dataset"
      ]
    },
    {
      "cell_type": "code",
      "execution_count": 2,
      "metadata": {
        "id": "9DA_-Bil6AoV"
      },
      "outputs": [],
      "source": [
        "data_location = '/content/data' #@param\n",
        "documents = SimpleDirectoryReader(data_location).load_data()"
      ]
    },
    {
      "cell_type": "code",
      "execution_count": 3,
      "metadata": {
        "colab": {
          "base_uri": "https://localhost:8080/"
        },
        "id": "-UoNG6F0RmCS",
        "outputId": "6fad7119-a76e-48bd-f203-56610e55197d"
      },
      "outputs": [
        {
          "data": {
            "text/plain": [
              "Document(id_='6c9a2aa1-c01d-473f-a13b-6d9e1a3d360c', embedding=None, metadata={'page_label': '1', 'file_name': 'invoice_107_charspace_108.pdf'}, excluded_embed_metadata_keys=[], excluded_llm_metadata_keys=[], relationships={}, hash='4049e8f124ba189c6633d7ac95ff3b456fafd197c937f914e63e748b04a31007', text='Invoice no: 82545881\\nDate of issue:\\n09/25/2011\\nSeller:\\nCampbell, Callahan and Gomez\\n2969 Todd Orchard Apt. 721\\nPort James, FL 83598\\nTax Id: 958-83-8233\\nIBAN: GB86WKRJ04578791818338\\nClient:\\nKeller-Crosby\\n280 Kim Valleys Suite 217\\nAngelaburgh, DE 97356\\nTax Id: 941-79-6209\\nITEMS\\nNo.\\nDescription\\nQty\\nUM\\nNet price\\nNet worth\\nVAT [%]\\nGross\\nworth\\n \\nUnder Armour UA Curry 3\\nBlack/Black Size 6Y\\n1.\\n5,00\\neach\\n 4,90\\n 24,50\\n 10%\\n 26,95\\n \\nSkechers Hypno Splash Light Up\\nShoes Size 4 Medium Big Kid\\nNew\\n2.\\n5,00\\neach\\n24,99\\n 124,95\\n 10%\\n 137,44\\n \\nNative Charley White\\nSandals~Size Infant/Child\\n6~Boys/Girls~Very Good\\nCondition\\n3.\\n5,00\\neach\\n13,00\\n 65,00\\n 10%\\n 71,50\\n \\nMinecraft Creative Stuffed Plush\\nKids Childrens Gift Cute Toy\\nBirthday Christmas\\n4.\\n1,00\\neach\\n 7,25\\n 7,25\\n 10%\\n 7,98\\n \\nSUMMARY\\nVAT [%]\\n Net worth\\n VAT\\n Gross worth\\n \\n10%\\n 221,70\\n 22,17\\n 243,87\\n \\n Total\\n $ 221,70\\n $ 22,17\\n $ 243,87\\n ', start_char_idx=None, end_char_idx=None, text_template='{metadata_str}\\n\\n{content}', metadata_template='{key}: {value}', metadata_seperator='\\n')"
            ]
          },
          "execution_count": 3,
          "metadata": {},
          "output_type": "execute_result"
        }
      ],
      "source": [
        "documents[0]"
      ]
    },
    {
      "cell_type": "code",
      "execution_count": 4,
      "metadata": {
        "id": "o9dYI6Vl6Aqt"
      },
      "outputs": [],
      "source": [
        "system_prompt = \"You are a data extractor. Extract the exact data from given document. If no information found please reply 'no information available'\"\n",
        "# This will wrap the default prompts that are internal to llama-index\n",
        "query_wrapper_prompt = SimpleInputPrompt(\"<|USER|>{query_str}<|ASSISTANT|>\")"
      ]
    },
    {
      "cell_type": "markdown",
      "metadata": {
        "id": "nnGSraB1BzSe"
      },
      "source": [
        "# 5. Load the Embeddings"
      ]
    },
    {
      "cell_type": "code",
      "execution_count": 5,
      "metadata": {
        "id": "RVJGIhjUBP9j"
      },
      "outputs": [],
      "source": [
        "# hyperparameters\n",
        "context_window = 4096 #@param\n",
        "temperature = 0.0 #@param\n",
        "model_name = 'meta-llama/Llama-2-7b-chat-hf' #@param"
      ]
    },
    {
      "cell_type": "code",
      "execution_count": 6,
      "metadata": {
        "colab": {
          "base_uri": "https://localhost:8080/",
          "height": 84,
          "referenced_widgets": [
            "ad4e7fe85b4b4d7eaf1aa0eb15db9534",
            "15d074bd110d4cbf9b8e3299b3845cad",
            "ddad010244034cc0a14f5cb99e48ed44",
            "83e7be19247c4d84a6a2926233d1e26f",
            "2a6880a5eedf4ff9bff302e7c2f50fce",
            "c93de4ba6584476ca520c3154fec05a6",
            "a9c05d0e4a5c43788793a1685e555369",
            "8429c4672bf146a1a8d4a1e34402e4f8",
            "a6b62ac1238b4bd9a594a1bcc6e17282",
            "78cf5f1d0dd84b878ff40afdf2f644d1",
            "91b697da1ace4d43813ba1a6ba54ed6a"
          ]
        },
        "id": "02qYFvm76Awz",
        "outputId": "b82399ec-1611-445a-fc53-5db9cd78dcba"
      },
      "outputs": [
        {
          "name": "stderr",
          "output_type": "stream",
          "text": [
            "/usr/local/lib/python3.10/dist-packages/transformers/modeling_utils.py:2193: FutureWarning: The `use_auth_token` argument is deprecated and will be removed in v5 of Transformers.\n",
            "  warnings.warn(\n"
          ]
        },
        {
          "data": {
            "application/vnd.jupyter.widget-view+json": {
              "model_id": "ad4e7fe85b4b4d7eaf1aa0eb15db9534",
              "version_major": 2,
              "version_minor": 0
            },
            "text/plain": [
              "Loading checkpoint shards:   0%|          | 0/2 [00:00<?, ?it/s]"
            ]
          },
          "metadata": {},
          "output_type": "display_data"
        }
      ],
      "source": [
        "llm = HuggingFaceLLM(\n",
        "    context_window=context_window,\n",
        "    max_new_tokens=256,\n",
        "    generate_kwargs={\"temperature\": temperature, \"do_sample\": False},\n",
        "    system_prompt=system_prompt,\n",
        "    query_wrapper_prompt=query_wrapper_prompt,\n",
        "    tokenizer_name=model_name,\n",
        "    model_name=model_name,\n",
        "    device_map=\"auto\",\n",
        "    # uncomment this if using CUDA to reduce memory usage\n",
        "    model_kwargs={\"torch_dtype\": torch.float16 , \"load_in_8bit\":True, \"use_auth_token\":True},\n",
        "\n",
        ")"
      ]
    },
    {
      "cell_type": "code",
      "execution_count": 7,
      "metadata": {
        "id": "5_yWpqlj7PeQ"
      },
      "outputs": [],
      "source": [
        "embed_model = LangchainEmbedding(\n",
        "  HuggingFaceEmbeddings(model_name=\"sentence-transformers/all-mpnet-base-v2\")\n",
        ")"
      ]
    },
    {
      "cell_type": "code",
      "execution_count": 8,
      "metadata": {
        "id": "cNNEEINT7Pg3"
      },
      "outputs": [],
      "source": [
        "service_context = ServiceContext.from_defaults(\n",
        "    chunk_size=1024,\n",
        "    llm=llm,\n",
        "    embed_model=embed_model\n",
        ")"
      ]
    },
    {
      "cell_type": "markdown",
      "metadata": {
        "id": "I7RmTOa5B4Yh"
      },
      "source": [
        "#6. Index the datastore"
      ]
    },
    {
      "cell_type": "code",
      "execution_count": 9,
      "metadata": {
        "id": "BB35nhWO7Pj0"
      },
      "outputs": [],
      "source": [
        "index = VectorStoreIndex.from_documents(documents, service_context=service_context)"
      ]
    },
    {
      "cell_type": "code",
      "execution_count": 39,
      "metadata": {
        "id": "L8wiTIEOA4Ke"
      },
      "outputs": [],
      "source": [
        "user_queries = ['Seller address in the document?' , 'Client address in the document?', 'seller Tax Id in the document?' ] #@param"
      ]
    },
    {
      "cell_type": "code",
      "execution_count": 40,
      "metadata": {
        "id": "tnMF-LQX7PmH"
      },
      "outputs": [],
      "source": [
        "answer = dict()\n",
        "for i, user_query in enumerate(user_queries):\n",
        "    query_engine = index.as_query_engine()\n",
        "    response = query_engine.query(user_query)\n",
        "    answer.update({user_query: response.response})"
      ]
    },
    {
      "cell_type": "code",
      "execution_count": 41,
      "metadata": {
        "colab": {
          "base_uri": "https://localhost:8080/"
        },
        "id": "48tR4PpTEX_q",
        "outputId": "4eeaa6f9-5d19-4955-e963-80624eaef6f8"
      },
      "outputs": [
        {
          "name": "stdout",
          "output_type": "stream",
          "text": [
            "{'Client address in the document?': 'The client address in the document is:\\n'\n",
            "                                    'Keller-Crosby\\n'\n",
            "                                    '280 Kim Valleys Suite 217\\n'\n",
            "                                    'Angelaburgh, DE 97356\\n'\n",
            "                                    '\\n'\n",
            "                                    '\\n'\n",
            "                                    '\\n',\n",
            " 'Seller address in the document?': \"The seller's address in the document is:\\n\"\n",
            "                                    '2969 Todd Orchard Apt. 721\\n'\n",
            "                                    'Port James, FL 83598\\n'\n",
            "                                    '\\n'\n",
            "                                    '\\n'\n",
            "                                    '\\n'\n",
            "                                    '\\n',\n",
            " 'seller Tax Id in the document?': \"The seller's Tax Id is 958-83-8233.\"}\n"
          ]
        }
      ],
      "source": [
        "pprint(answer)"
      ]
    }
  ],
  "metadata": {
    "accelerator": "GPU",
    "colab": {
      "gpuType": "T4",
      "include_colab_link": true,
      "machine_shape": "hm",
      "provenance": []
    },
    "kernelspec": {
      "display_name": "Python 3",
      "name": "python3"
    },
    "language_info": {
      "name": "python"
    },
    "widgets": {
      "application/vnd.jupyter.widget-state+json": {
        "15d074bd110d4cbf9b8e3299b3845cad": {
          "model_module": "@jupyter-widgets/controls",
          "model_module_version": "1.5.0",
          "model_name": "HTMLModel",
          "state": {
            "_dom_classes": [],
            "_model_module": "@jupyter-widgets/controls",
            "_model_module_version": "1.5.0",
            "_model_name": "HTMLModel",
            "_view_count": null,
            "_view_module": "@jupyter-widgets/controls",
            "_view_module_version": "1.5.0",
            "_view_name": "HTMLView",
            "description": "",
            "description_tooltip": null,
            "layout": "IPY_MODEL_c93de4ba6584476ca520c3154fec05a6",
            "placeholder": "​",
            "style": "IPY_MODEL_a9c05d0e4a5c43788793a1685e555369",
            "value": "Loading checkpoint shards: 100%"
          }
        },
        "2a6880a5eedf4ff9bff302e7c2f50fce": {
          "model_module": "@jupyter-widgets/base",
          "model_module_version": "1.2.0",
          "model_name": "LayoutModel",
          "state": {
            "_model_module": "@jupyter-widgets/base",
            "_model_module_version": "1.2.0",
            "_model_name": "LayoutModel",
            "_view_count": null,
            "_view_module": "@jupyter-widgets/base",
            "_view_module_version": "1.2.0",
            "_view_name": "LayoutView",
            "align_content": null,
            "align_items": null,
            "align_self": null,
            "border": null,
            "bottom": null,
            "display": null,
            "flex": null,
            "flex_flow": null,
            "grid_area": null,
            "grid_auto_columns": null,
            "grid_auto_flow": null,
            "grid_auto_rows": null,
            "grid_column": null,
            "grid_gap": null,
            "grid_row": null,
            "grid_template_areas": null,
            "grid_template_columns": null,
            "grid_template_rows": null,
            "height": null,
            "justify_content": null,
            "justify_items": null,
            "left": null,
            "margin": null,
            "max_height": null,
            "max_width": null,
            "min_height": null,
            "min_width": null,
            "object_fit": null,
            "object_position": null,
            "order": null,
            "overflow": null,
            "overflow_x": null,
            "overflow_y": null,
            "padding": null,
            "right": null,
            "top": null,
            "visibility": null,
            "width": null
          }
        },
        "78cf5f1d0dd84b878ff40afdf2f644d1": {
          "model_module": "@jupyter-widgets/base",
          "model_module_version": "1.2.0",
          "model_name": "LayoutModel",
          "state": {
            "_model_module": "@jupyter-widgets/base",
            "_model_module_version": "1.2.0",
            "_model_name": "LayoutModel",
            "_view_count": null,
            "_view_module": "@jupyter-widgets/base",
            "_view_module_version": "1.2.0",
            "_view_name": "LayoutView",
            "align_content": null,
            "align_items": null,
            "align_self": null,
            "border": null,
            "bottom": null,
            "display": null,
            "flex": null,
            "flex_flow": null,
            "grid_area": null,
            "grid_auto_columns": null,
            "grid_auto_flow": null,
            "grid_auto_rows": null,
            "grid_column": null,
            "grid_gap": null,
            "grid_row": null,
            "grid_template_areas": null,
            "grid_template_columns": null,
            "grid_template_rows": null,
            "height": null,
            "justify_content": null,
            "justify_items": null,
            "left": null,
            "margin": null,
            "max_height": null,
            "max_width": null,
            "min_height": null,
            "min_width": null,
            "object_fit": null,
            "object_position": null,
            "order": null,
            "overflow": null,
            "overflow_x": null,
            "overflow_y": null,
            "padding": null,
            "right": null,
            "top": null,
            "visibility": null,
            "width": null
          }
        },
        "83e7be19247c4d84a6a2926233d1e26f": {
          "model_module": "@jupyter-widgets/controls",
          "model_module_version": "1.5.0",
          "model_name": "HTMLModel",
          "state": {
            "_dom_classes": [],
            "_model_module": "@jupyter-widgets/controls",
            "_model_module_version": "1.5.0",
            "_model_name": "HTMLModel",
            "_view_count": null,
            "_view_module": "@jupyter-widgets/controls",
            "_view_module_version": "1.5.0",
            "_view_name": "HTMLView",
            "description": "",
            "description_tooltip": null,
            "layout": "IPY_MODEL_78cf5f1d0dd84b878ff40afdf2f644d1",
            "placeholder": "​",
            "style": "IPY_MODEL_91b697da1ace4d43813ba1a6ba54ed6a",
            "value": " 2/2 [01:10&lt;00:00, 32.57s/it]"
          }
        },
        "8429c4672bf146a1a8d4a1e34402e4f8": {
          "model_module": "@jupyter-widgets/base",
          "model_module_version": "1.2.0",
          "model_name": "LayoutModel",
          "state": {
            "_model_module": "@jupyter-widgets/base",
            "_model_module_version": "1.2.0",
            "_model_name": "LayoutModel",
            "_view_count": null,
            "_view_module": "@jupyter-widgets/base",
            "_view_module_version": "1.2.0",
            "_view_name": "LayoutView",
            "align_content": null,
            "align_items": null,
            "align_self": null,
            "border": null,
            "bottom": null,
            "display": null,
            "flex": null,
            "flex_flow": null,
            "grid_area": null,
            "grid_auto_columns": null,
            "grid_auto_flow": null,
            "grid_auto_rows": null,
            "grid_column": null,
            "grid_gap": null,
            "grid_row": null,
            "grid_template_areas": null,
            "grid_template_columns": null,
            "grid_template_rows": null,
            "height": null,
            "justify_content": null,
            "justify_items": null,
            "left": null,
            "margin": null,
            "max_height": null,
            "max_width": null,
            "min_height": null,
            "min_width": null,
            "object_fit": null,
            "object_position": null,
            "order": null,
            "overflow": null,
            "overflow_x": null,
            "overflow_y": null,
            "padding": null,
            "right": null,
            "top": null,
            "visibility": null,
            "width": null
          }
        },
        "91b697da1ace4d43813ba1a6ba54ed6a": {
          "model_module": "@jupyter-widgets/controls",
          "model_module_version": "1.5.0",
          "model_name": "DescriptionStyleModel",
          "state": {
            "_model_module": "@jupyter-widgets/controls",
            "_model_module_version": "1.5.0",
            "_model_name": "DescriptionStyleModel",
            "_view_count": null,
            "_view_module": "@jupyter-widgets/base",
            "_view_module_version": "1.2.0",
            "_view_name": "StyleView",
            "description_width": ""
          }
        },
        "a6b62ac1238b4bd9a594a1bcc6e17282": {
          "model_module": "@jupyter-widgets/controls",
          "model_module_version": "1.5.0",
          "model_name": "ProgressStyleModel",
          "state": {
            "_model_module": "@jupyter-widgets/controls",
            "_model_module_version": "1.5.0",
            "_model_name": "ProgressStyleModel",
            "_view_count": null,
            "_view_module": "@jupyter-widgets/base",
            "_view_module_version": "1.2.0",
            "_view_name": "StyleView",
            "bar_color": null,
            "description_width": ""
          }
        },
        "a9c05d0e4a5c43788793a1685e555369": {
          "model_module": "@jupyter-widgets/controls",
          "model_module_version": "1.5.0",
          "model_name": "DescriptionStyleModel",
          "state": {
            "_model_module": "@jupyter-widgets/controls",
            "_model_module_version": "1.5.0",
            "_model_name": "DescriptionStyleModel",
            "_view_count": null,
            "_view_module": "@jupyter-widgets/base",
            "_view_module_version": "1.2.0",
            "_view_name": "StyleView",
            "description_width": ""
          }
        },
        "ad4e7fe85b4b4d7eaf1aa0eb15db9534": {
          "model_module": "@jupyter-widgets/controls",
          "model_module_version": "1.5.0",
          "model_name": "HBoxModel",
          "state": {
            "_dom_classes": [],
            "_model_module": "@jupyter-widgets/controls",
            "_model_module_version": "1.5.0",
            "_model_name": "HBoxModel",
            "_view_count": null,
            "_view_module": "@jupyter-widgets/controls",
            "_view_module_version": "1.5.0",
            "_view_name": "HBoxView",
            "box_style": "",
            "children": [
              "IPY_MODEL_15d074bd110d4cbf9b8e3299b3845cad",
              "IPY_MODEL_ddad010244034cc0a14f5cb99e48ed44",
              "IPY_MODEL_83e7be19247c4d84a6a2926233d1e26f"
            ],
            "layout": "IPY_MODEL_2a6880a5eedf4ff9bff302e7c2f50fce"
          }
        },
        "c93de4ba6584476ca520c3154fec05a6": {
          "model_module": "@jupyter-widgets/base",
          "model_module_version": "1.2.0",
          "model_name": "LayoutModel",
          "state": {
            "_model_module": "@jupyter-widgets/base",
            "_model_module_version": "1.2.0",
            "_model_name": "LayoutModel",
            "_view_count": null,
            "_view_module": "@jupyter-widgets/base",
            "_view_module_version": "1.2.0",
            "_view_name": "LayoutView",
            "align_content": null,
            "align_items": null,
            "align_self": null,
            "border": null,
            "bottom": null,
            "display": null,
            "flex": null,
            "flex_flow": null,
            "grid_area": null,
            "grid_auto_columns": null,
            "grid_auto_flow": null,
            "grid_auto_rows": null,
            "grid_column": null,
            "grid_gap": null,
            "grid_row": null,
            "grid_template_areas": null,
            "grid_template_columns": null,
            "grid_template_rows": null,
            "height": null,
            "justify_content": null,
            "justify_items": null,
            "left": null,
            "margin": null,
            "max_height": null,
            "max_width": null,
            "min_height": null,
            "min_width": null,
            "object_fit": null,
            "object_position": null,
            "order": null,
            "overflow": null,
            "overflow_x": null,
            "overflow_y": null,
            "padding": null,
            "right": null,
            "top": null,
            "visibility": null,
            "width": null
          }
        },
        "ddad010244034cc0a14f5cb99e48ed44": {
          "model_module": "@jupyter-widgets/controls",
          "model_module_version": "1.5.0",
          "model_name": "FloatProgressModel",
          "state": {
            "_dom_classes": [],
            "_model_module": "@jupyter-widgets/controls",
            "_model_module_version": "1.5.0",
            "_model_name": "FloatProgressModel",
            "_view_count": null,
            "_view_module": "@jupyter-widgets/controls",
            "_view_module_version": "1.5.0",
            "_view_name": "ProgressView",
            "bar_style": "success",
            "description": "",
            "description_tooltip": null,
            "layout": "IPY_MODEL_8429c4672bf146a1a8d4a1e34402e4f8",
            "max": 2,
            "min": 0,
            "orientation": "horizontal",
            "style": "IPY_MODEL_a6b62ac1238b4bd9a594a1bcc6e17282",
            "value": 2
          }
        }
      }
    }
  },
  "nbformat": 4,
  "nbformat_minor": 0
}
